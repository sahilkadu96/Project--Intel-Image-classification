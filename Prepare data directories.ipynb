{
 "cells": [
  {
   "cell_type": "code",
   "execution_count": 1,
   "id": "aa3067fd",
   "metadata": {},
   "outputs": [],
   "source": [
    "import os\n",
    "from shutil import copyfile"
   ]
  },
  {
   "cell_type": "code",
   "execution_count": 4,
   "id": "17b52e03",
   "metadata": {},
   "outputs": [],
   "source": [
    "base_path = r'C:\\Users\\Sahil\\Data science Machine Learning\\INeuron FSDS\\Deep Learning\\Assignment5\\seg_train'\n",
    "pred_path = r'C:\\Users\\Sahil\\Data science Machine Learning\\INeuron FSDS\\Deep Learning\\Assignment5\\seg_pred'"
   ]
  },
  {
   "cell_type": "code",
   "execution_count": 3,
   "id": "d547f70a",
   "metadata": {},
   "outputs": [],
   "source": [
    "classes = ['buildings', 'forest', 'glacier', 'mountain', 'sea', 'street']"
   ]
  },
  {
   "cell_type": "code",
   "execution_count": 7,
   "id": "0965efe8",
   "metadata": {},
   "outputs": [],
   "source": [
    "os.mkdir(r'C:\\Users\\Sahil\\Data science Machine Learning\\INeuron FSDS\\Deep Learning\\Assignment5\\training')\n",
    "os.mkdir(r'C:\\Users\\Sahil\\Data science Machine Learning\\INeuron FSDS\\Deep Learning\\Assignment5\\testing')"
   ]
  },
  {
   "cell_type": "code",
   "execution_count": 8,
   "id": "2ffacd82",
   "metadata": {},
   "outputs": [],
   "source": [
    "for c in classes:\n",
    "    os.mkdir(os.path.join(r'C:\\Users\\Sahil\\Data science Machine Learning\\INeuron FSDS\\Deep Learning\\Assignment5\\training', c))"
   ]
  },
  {
   "cell_type": "code",
   "execution_count": 9,
   "id": "7ac9502e",
   "metadata": {},
   "outputs": [],
   "source": [
    "os.mkdir(os.path.join(r'C:\\Users\\Sahil\\Data science Machine Learning\\INeuron FSDS\\Deep Learning\\Assignment5\\testing', 'test'))"
   ]
  },
  {
   "cell_type": "code",
   "execution_count": 5,
   "id": "db18a611",
   "metadata": {},
   "outputs": [],
   "source": [
    "training_path = r'C:\\Users\\Sahil\\Data science Machine Learning\\INeuron FSDS\\Deep Learning\\Assignment5\\training'\n",
    "testing_path = r'C:\\Users\\Sahil\\Data science Machine Learning\\INeuron FSDS\\Deep Learning\\Assignment5\\testing'\n",
    "test_path = r'C:\\Users\\Sahil\\Data science Machine Learning\\INeuron FSDS\\Deep Learning\\Assignment5\\testing\\test'"
   ]
  },
  {
   "cell_type": "code",
   "execution_count": 6,
   "id": "648c4910",
   "metadata": {},
   "outputs": [],
   "source": [
    "for c in os.listdir(base_path):\n",
    "    image_path = os.path.join(base_path, c)\n",
    "    count = 0\n",
    "    \n",
    "    for image in os.listdir(image_path):\n",
    "        if count == 200:\n",
    "            break\n",
    "        source = os.path.join(image_path, image)\n",
    "        dest = os.path.join(training_path, c, image)\n",
    "        count += 1\n",
    "        copyfile(source, dest)"
   ]
  },
  {
   "cell_type": "code",
   "execution_count": 14,
   "id": "bb34fead",
   "metadata": {},
   "outputs": [
    {
     "name": "stdout",
     "output_type": "stream",
     "text": [
      "10004.jpg\n",
      "10005.jpg\n",
      "10012.jpg\n",
      "10013.jpg\n",
      "10017.jpg\n",
      "10021.jpg\n",
      "1003.jpg\n",
      "10034.jpg\n",
      "10038.jpg\n",
      "10040.jpg\n",
      "10043.jpg\n",
      "10045.jpg\n",
      "10047.jpg\n",
      "10048.jpg\n",
      "10052.jpg\n",
      "10054.jpg\n",
      "10059.jpg\n",
      "10060.jpg\n",
      "10066.jpg\n",
      "10069.jpg\n",
      "10073.jpg\n",
      "10079.jpg\n",
      "1008.jpg\n",
      "10082.jpg\n",
      "10083.jpg\n",
      "10090.jpg\n",
      "10092.jpg\n",
      "10096.jpg\n",
      "101.jpg\n",
      "10100.jpg\n",
      "10101.jpg\n",
      "10102.jpg\n",
      "10106.jpg\n",
      "10109.jpg\n",
      "10119.jpg\n",
      "10124.jpg\n",
      "10127.jpg\n",
      "10129.jpg\n",
      "10132.jpg\n",
      "10133.jpg\n",
      "10147.jpg\n",
      "10157.jpg\n",
      "10158.jpg\n",
      "10159.jpg\n",
      "1016.jpg\n",
      "10164.jpg\n",
      "10166.jpg\n",
      "10168.jpg\n",
      "10169.jpg\n",
      "10171.jpg\n",
      "10173.jpg\n",
      "10175.jpg\n",
      "10178.jpg\n",
      "10179.jpg\n",
      "1018.jpg\n",
      "10187.jpg\n",
      "10190.jpg\n",
      "10199.jpg\n",
      "1020.jpg\n",
      "10201.jpg\n",
      "10208.jpg\n",
      "10209.jpg\n",
      "10211.jpg\n",
      "10212.jpg\n",
      "10225.jpg\n",
      "10226.jpg\n",
      "10232.jpg\n",
      "10233.jpg\n",
      "10241.jpg\n",
      "10243.jpg\n",
      "10244.jpg\n",
      "10246.jpg\n",
      "10247.jpg\n",
      "10253.jpg\n",
      "1026.jpg\n",
      "10261.jpg\n",
      "10269.jpg\n",
      "10270.jpg\n",
      "10272.jpg\n",
      "10276.jpg\n",
      "10277.jpg\n",
      "10282.jpg\n",
      "10284.jpg\n",
      "10286.jpg\n",
      "10287.jpg\n",
      "10288.jpg\n",
      "10290.jpg\n",
      "10292.jpg\n",
      "10293.jpg\n",
      "103.jpg\n",
      "10302.jpg\n",
      "10305.jpg\n",
      "10307.jpg\n",
      "10308.jpg\n",
      "10311.jpg\n",
      "10321.jpg\n",
      "10333.jpg\n",
      "10336.jpg\n",
      "10339.jpg\n",
      "10340.jpg\n"
     ]
    }
   ],
   "source": [
    "pred_t_path = r'C:\\Users\\Sahil\\Data science Machine Learning\\INeuron FSDS\\Deep Learning\\Assignment5\\seg_pred\\test'\n",
    "count = 0\n",
    "for img in os.listdir(pred_t_path):\n",
    "    if count == 100:\n",
    "        break\n",
    "    src = os.path.join(pred_t_path, img)\n",
    "    dest = os.path.join(test_path, img)\n",
    "    count += 1\n",
    "    print(img)\n",
    "    copyfile(src, dest)"
   ]
  },
  {
   "cell_type": "code",
   "execution_count": 12,
   "id": "fd793009",
   "metadata": {},
   "outputs": [
    {
     "data": {
      "text/plain": [
       "7301"
      ]
     },
     "execution_count": 12,
     "metadata": {},
     "output_type": "execute_result"
    }
   ],
   "source": [
    "len(os.listdir(pred_t_path))"
   ]
  }
 ],
 "metadata": {
  "kernelspec": {
   "display_name": "Python 3 (ipykernel)",
   "language": "python",
   "name": "python3"
  },
  "language_info": {
   "codemirror_mode": {
    "name": "ipython",
    "version": 3
   },
   "file_extension": ".py",
   "mimetype": "text/x-python",
   "name": "python",
   "nbconvert_exporter": "python",
   "pygments_lexer": "ipython3",
   "version": "3.9.12"
  }
 },
 "nbformat": 4,
 "nbformat_minor": 5
}
